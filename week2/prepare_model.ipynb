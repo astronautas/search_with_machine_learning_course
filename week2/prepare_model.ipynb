{
 "cells": [
  {
   "cell_type": "markdown",
   "metadata": {},
   "source": [
    "# Fasttext"
   ]
  },
  {
   "cell_type": "code",
   "execution_count": 1,
   "metadata": {},
   "outputs": [],
   "source": [
    "import fasttext"
   ]
  },
  {
   "cell_type": "markdown",
   "metadata": {},
   "source": [
    "## Split"
   ]
  },
  {
   "cell_type": "code",
   "execution_count": 2,
   "metadata": {},
   "outputs": [],
   "source": [
    "!rm -rf products.train && head -10000 /workspace/datasets/fasttext/shuffled_labeled_products.txt > products.train"
   ]
  },
  {
   "cell_type": "code",
   "execution_count": 3,
   "metadata": {},
   "outputs": [],
   "source": [
    "!rm -f products.test && tail -15000 /workspace/datasets/fasttext/shuffled_labeled_products.txt > products.test"
   ]
  },
  {
   "cell_type": "code",
   "execution_count": null,
   "metadata": {},
   "outputs": [],
   "source": []
  },
  {
   "cell_type": "code",
   "execution_count": 6,
   "metadata": {},
   "outputs": [
    {
     "name": "stderr",
     "output_type": "stream",
     "text": [
      "Read 1M words\n",
      "Number of words:  34339\n",
      "Number of labels: 1951\n",
      "Progress: 100.0% words/sec/thread:    3436 lr:  0.000000 avg.loss:  4.711692 ETA:   0h 0m 0s\n"
     ]
    }
   ],
   "source": [
    "# Train model\n",
    "model = fasttext.train_supervised(input=\"products.train\")"
   ]
  },
  {
   "cell_type": "code",
   "execution_count": null,
   "metadata": {},
   "outputs": [],
   "source": [
    "model.save_model(\"product_classifier.bin\")"
   ]
  },
  {
   "cell_type": "code",
   "execution_count": 70,
   "metadata": {},
   "outputs": [],
   "source": [
    "def evaluate(_model, ds):\n",
    "    for k in [1, 5, 10]:\n",
    "        res = _model.test(ds, k)\n",
    "        print(f\"P@{k}: {res[1]}, R@{k}: {res[2]}\")\n"
   ]
  },
  {
   "cell_type": "code",
   "execution_count": 12,
   "metadata": {},
   "outputs": [
    {
     "data": {
      "text/plain": [
       "(14985, 0.5807807807807808, 0.5807807807807808)"
      ]
     },
     "execution_count": 12,
     "metadata": {},
     "output_type": "execute_result"
    }
   ],
   "source": [
    "# Evaluate on test data\n",
    "model.test(\"products.test\", 1)"
   ]
  },
  {
   "cell_type": "code",
   "execution_count": 11,
   "metadata": {},
   "outputs": [
    {
     "data": {
      "text/plain": [
       "(14985, 0.08341675008341674, 0.8341675008341675)"
      ]
     },
     "execution_count": 11,
     "metadata": {},
     "output_type": "execute_result"
    }
   ],
   "source": [
    "model.test(\"products.test\", 1)"
   ]
  },
  {
   "cell_type": "markdown",
   "metadata": {},
   "source": [
    "## Tuning"
   ]
  },
  {
   "cell_type": "code",
   "execution_count": 6,
   "metadata": {},
   "outputs": [
    {
     "name": "stderr",
     "output_type": "stream",
     "text": [
      "Read 0M words\n",
      "Number of words:  11163\n",
      "Number of labels: 1365\n",
      "Progress: 100.0% words/sec/thread:    4633 lr:  0.000000 avg.loss:  1.229115 ETA:   0h 0m 0s\n"
     ]
    }
   ],
   "source": [
    "model = fasttext.train_supervised(input=\"products.train\", wordNgrams=2, epoch=25, lr=1.0)"
   ]
  },
  {
   "cell_type": "code",
   "execution_count": 7,
   "metadata": {},
   "outputs": [
    {
     "name": "stdout",
     "output_type": "stream",
     "text": [
      "P@1: 0.612304080646275, R@1: 0.612304080646275\n",
      "P@5: 0.1621763446799696, R@5: 0.8108817233998481\n",
      "P@10: 0.08551405095629358, R@10: 0.8551405095629359\n"
     ]
    }
   ],
   "source": [
    "evaluate(model, \"products.test\")"
   ]
  },
  {
   "cell_type": "markdown",
   "metadata": {},
   "source": [
    "Improvement - normalize the data"
   ]
  },
  {
   "cell_type": "code",
   "execution_count": 8,
   "metadata": {},
   "outputs": [],
   "source": [
    "!cat /workspace/datasets/fasttext/shuffled_labeled_products.txt |sed -e \"s/\\([.\\!?,'/()]\\)/ \\1 /g\" | tr \"[:upper:]\" \"[:lower:]\" | sed \"s/[^[:alnum:]_]/ /g\" | tr -s ' ' > /workspace/datasets/fasttext/shuffled_labeled_products_normalized.txt\n"
   ]
  },
  {
   "cell_type": "code",
   "execution_count": 10,
   "metadata": {},
   "outputs": [],
   "source": [
    "!rm -rf products_normalized.train && head -10000 /workspace/datasets/fasttext/shuffled_labeled_products_normalized.txt > products_normalized.train\n",
    "!rm -rf products_normalized.test && tail -15000 /workspace/datasets/fasttext/shuffled_labeled_products_normalized.txt > products_normalized.test"
   ]
  },
  {
   "cell_type": "code",
   "execution_count": 14,
   "metadata": {},
   "outputs": [
    {
     "name": "stderr",
     "output_type": "stream",
     "text": [
      "Read 0M words\n",
      "Number of words:  8703\n",
      "Number of labels: 1365\n",
      "Progress: 100.0% words/sec/thread:    7884 lr:  0.000000 avg.loss:  1.141257 ETA:   0h 0m 0s\n"
     ]
    }
   ],
   "source": [
    "model = fasttext.train_supervised(input=\"products_normalized.train\", wordNgrams=2, epoch=25, lr=1.0)"
   ]
  },
  {
   "cell_type": "code",
   "execution_count": 15,
   "metadata": {},
   "outputs": [
    {
     "name": "stdout",
     "output_type": "stream",
     "text": [
      "P@1: 0.6096803148518953, R@1: 0.6096803148518953\n",
      "P@5: 0.16167921010840294, R@5: 0.8083960505420148\n",
      "P@10: 0.08516881861492785, R@10: 0.8516881861492784\n"
     ]
    }
   ],
   "source": [
    "evaluate(model, \"products_normalized.test\")"
   ]
  },
  {
   "cell_type": "markdown",
   "metadata": {},
   "source": [
    "### Some categories have very few samples. Drop 'em"
   ]
  },
  {
   "cell_type": "code",
   "execution_count": 1,
   "metadata": {},
   "outputs": [],
   "source": [
    "import pandas as pd"
   ]
  },
  {
   "cell_type": "code",
   "execution_count": 11,
   "metadata": {},
   "outputs": [],
   "source": [
    "ds = pd.read_fwf(\"/workspace/datasets/fasttext/labeled_products.txt\", header=None, names=[\"line\"])"
   ]
  },
  {
   "cell_type": "code",
   "execution_count": 12,
   "metadata": {},
   "outputs": [
    {
     "data": {
      "text/html": [
       "<div>\n",
       "<style scoped>\n",
       "    .dataframe tbody tr th:only-of-type {\n",
       "        vertical-align: middle;\n",
       "    }\n",
       "\n",
       "    .dataframe tbody tr th {\n",
       "        vertical-align: top;\n",
       "    }\n",
       "\n",
       "    .dataframe thead th {\n",
       "        text-align: right;\n",
       "    }\n",
       "</style>\n",
       "<table border=\"1\" class=\"dataframe\">\n",
       "  <thead>\n",
       "    <tr style=\"text-align: right;\">\n",
       "      <th></th>\n",
       "      <th>line</th>\n",
       "    </tr>\n",
       "  </thead>\n",
       "  <tbody>\n",
       "    <tr>\n",
       "      <th>0</th>\n",
       "      <td>__label__abcat0107029 Recoton - 1/8\" Mini Ster...</td>\n",
       "    </tr>\n",
       "    <tr>\n",
       "      <th>1</th>\n",
       "      <td>__label__abcat0202007 Panasonic - Technics Qua...</td>\n",
       "    </tr>\n",
       "    <tr>\n",
       "      <th>2</th>\n",
       "      <td>__label__abcat0908001 Holmes - Replacement Fil...</td>\n",
       "    </tr>\n",
       "    <tr>\n",
       "      <th>3</th>\n",
       "      <td>__label__abcat0107031 Monster Cable - 10' Pair...</td>\n",
       "    </tr>\n",
       "    <tr>\n",
       "      <th>4</th>\n",
       "      <td>__label__pcmcat223000050008 Pioneer - 4\" 3-Way...</td>\n",
       "    </tr>\n",
       "    <tr>\n",
       "      <th>...</th>\n",
       "      <td>...</td>\n",
       "    </tr>\n",
       "    <tr>\n",
       "      <th>115498</th>\n",
       "      <td>__label__pcmcat234200050001 Nikon 1 J1 10.1MP ...</td>\n",
       "    </tr>\n",
       "    <tr>\n",
       "      <th>115499</th>\n",
       "      <td>__label__pcmcat234200050001 Nikon 1 J1 10.1MP ...</td>\n",
       "    </tr>\n",
       "    <tr>\n",
       "      <th>115500</th>\n",
       "      <td>__label__pcmcat234200050001 Nikon 1 J1 10.1MP ...</td>\n",
       "    </tr>\n",
       "    <tr>\n",
       "      <th>115501</th>\n",
       "      <td>__label__pcmcat234200050001 Nikon 1 J1 Pink 10...</td>\n",
       "    </tr>\n",
       "    <tr>\n",
       "      <th>115502</th>\n",
       "      <td>__label__pcmcat234200050001 Nikon 1 J1 10.1MP ...</td>\n",
       "    </tr>\n",
       "  </tbody>\n",
       "</table>\n",
       "<p>115503 rows × 1 columns</p>\n",
       "</div>"
      ],
      "text/plain": [
       "                                                     line\n",
       "0       __label__abcat0107029 Recoton - 1/8\" Mini Ster...\n",
       "1       __label__abcat0202007 Panasonic - Technics Qua...\n",
       "2       __label__abcat0908001 Holmes - Replacement Fil...\n",
       "3       __label__abcat0107031 Monster Cable - 10' Pair...\n",
       "4       __label__pcmcat223000050008 Pioneer - 4\" 3-Way...\n",
       "...                                                   ...\n",
       "115498  __label__pcmcat234200050001 Nikon 1 J1 10.1MP ...\n",
       "115499  __label__pcmcat234200050001 Nikon 1 J1 10.1MP ...\n",
       "115500  __label__pcmcat234200050001 Nikon 1 J1 10.1MP ...\n",
       "115501  __label__pcmcat234200050001 Nikon 1 J1 Pink 10...\n",
       "115502  __label__pcmcat234200050001 Nikon 1 J1 10.1MP ...\n",
       "\n",
       "[115503 rows x 1 columns]"
      ]
     },
     "execution_count": 12,
     "metadata": {},
     "output_type": "execute_result"
    }
   ],
   "source": [
    "ds"
   ]
  },
  {
   "cell_type": "code",
   "execution_count": 19,
   "metadata": {},
   "outputs": [],
   "source": [
    "ds[[\"label\", \"text\"]] = ds[\"line\"].str.split(\" \", 1, expand=True)\n",
    "ds = ds.drop(columns=\"line\")"
   ]
  },
  {
   "cell_type": "code",
   "execution_count": 20,
   "metadata": {},
   "outputs": [
    {
     "data": {
      "text/html": [
       "<div>\n",
       "<style scoped>\n",
       "    .dataframe tbody tr th:only-of-type {\n",
       "        vertical-align: middle;\n",
       "    }\n",
       "\n",
       "    .dataframe tbody tr th {\n",
       "        vertical-align: top;\n",
       "    }\n",
       "\n",
       "    .dataframe thead th {\n",
       "        text-align: right;\n",
       "    }\n",
       "</style>\n",
       "<table border=\"1\" class=\"dataframe\">\n",
       "  <thead>\n",
       "    <tr style=\"text-align: right;\">\n",
       "      <th></th>\n",
       "      <th>label</th>\n",
       "      <th>text</th>\n",
       "    </tr>\n",
       "  </thead>\n",
       "  <tbody>\n",
       "    <tr>\n",
       "      <th>0</th>\n",
       "      <td>__label__abcat0107029</td>\n",
       "      <td>Recoton - 1/8\" Mini Stereo 3.5mm Y Adapter</td>\n",
       "    </tr>\n",
       "    <tr>\n",
       "      <th>1</th>\n",
       "      <td>__label__abcat0202007</td>\n",
       "      <td>Panasonic - Technics Quartz Synthesizer Direct...</td>\n",
       "    </tr>\n",
       "    <tr>\n",
       "      <th>2</th>\n",
       "      <td>__label__abcat0908001</td>\n",
       "      <td>Holmes - Replacement Filter for Select Holmes ...</td>\n",
       "    </tr>\n",
       "    <tr>\n",
       "      <th>3</th>\n",
       "      <td>__label__abcat0107031</td>\n",
       "      <td>Monster Cable - 10' Pair of 10-Gauge Speaker Wire</td>\n",
       "    </tr>\n",
       "    <tr>\n",
       "      <th>4</th>\n",
       "      <td>__label__pcmcat223000050008</td>\n",
       "      <td>Pioneer - 4\" 3-Way Surface-Mount Speakers with...</td>\n",
       "    </tr>\n",
       "    <tr>\n",
       "      <th>...</th>\n",
       "      <td>...</td>\n",
       "      <td>...</td>\n",
       "    </tr>\n",
       "    <tr>\n",
       "      <th>115498</th>\n",
       "      <td>__label__pcmcat234200050001</td>\n",
       "      <td>Nikon 1 J1 10.1MP White Camera Kit, Bag, 8GB M...</td>\n",
       "    </tr>\n",
       "    <tr>\n",
       "      <th>115499</th>\n",
       "      <td>__label__pcmcat234200050001</td>\n",
       "      <td>Nikon 1 J1 10.1MP Red Camera Kit, Bag, 8GB Mem...</td>\n",
       "    </tr>\n",
       "    <tr>\n",
       "      <th>115500</th>\n",
       "      <td>__label__pcmcat234200050001</td>\n",
       "      <td>Nikon 1 J1 10.1MP Red Camera Kit, Bag, 8GB Mem...</td>\n",
       "    </tr>\n",
       "    <tr>\n",
       "      <th>115501</th>\n",
       "      <td>__label__pcmcat234200050001</td>\n",
       "      <td>Nikon 1 J1 Pink 10.1MP Camera Kit, Bag, 8GB Me...</td>\n",
       "    </tr>\n",
       "    <tr>\n",
       "      <th>115502</th>\n",
       "      <td>__label__pcmcat234200050001</td>\n",
       "      <td>Nikon 1 J1 10.1MP Silver Camera Kit, Bag, 8GB ...</td>\n",
       "    </tr>\n",
       "  </tbody>\n",
       "</table>\n",
       "<p>115503 rows × 2 columns</p>\n",
       "</div>"
      ],
      "text/plain": [
       "                              label  \\\n",
       "0             __label__abcat0107029   \n",
       "1             __label__abcat0202007   \n",
       "2             __label__abcat0908001   \n",
       "3             __label__abcat0107031   \n",
       "4       __label__pcmcat223000050008   \n",
       "...                             ...   \n",
       "115498  __label__pcmcat234200050001   \n",
       "115499  __label__pcmcat234200050001   \n",
       "115500  __label__pcmcat234200050001   \n",
       "115501  __label__pcmcat234200050001   \n",
       "115502  __label__pcmcat234200050001   \n",
       "\n",
       "                                                     text  \n",
       "0              Recoton - 1/8\" Mini Stereo 3.5mm Y Adapter  \n",
       "1       Panasonic - Technics Quartz Synthesizer Direct...  \n",
       "2       Holmes - Replacement Filter for Select Holmes ...  \n",
       "3       Monster Cable - 10' Pair of 10-Gauge Speaker Wire  \n",
       "4       Pioneer - 4\" 3-Way Surface-Mount Speakers with...  \n",
       "...                                                   ...  \n",
       "115498  Nikon 1 J1 10.1MP White Camera Kit, Bag, 8GB M...  \n",
       "115499  Nikon 1 J1 10.1MP Red Camera Kit, Bag, 8GB Mem...  \n",
       "115500  Nikon 1 J1 10.1MP Red Camera Kit, Bag, 8GB Mem...  \n",
       "115501  Nikon 1 J1 Pink 10.1MP Camera Kit, Bag, 8GB Me...  \n",
       "115502  Nikon 1 J1 10.1MP Silver Camera Kit, Bag, 8GB ...  \n",
       "\n",
       "[115503 rows x 2 columns]"
      ]
     },
     "execution_count": 20,
     "metadata": {},
     "output_type": "execute_result"
    }
   ],
   "source": [
    "ds"
   ]
  },
  {
   "cell_type": "code",
   "execution_count": 52,
   "metadata": {},
   "outputs": [
    {
     "data": {
      "text/plain": [
       "array(['__label__abcat0101001', '__label__pcmcat180400050006',\n",
       "       '__label__abcat0401004', '__label__pcmcat247400050000',\n",
       "       '__label__cat09000', '__label__abcat0901005',\n",
       "       '__label__abcat0515028', '__label__abcat0905001',\n",
       "       '__label__pcmcat171900050029', '__label__abcat0904003',\n",
       "       '__label__pcmcat151600050006', '__label__pcmcat174700050005',\n",
       "       '__label__abcat0711001', '__label__abcat0712001',\n",
       "       '__label__pcmcat212600050008', '__label__abcat0106001',\n",
       "       '__label__pcmcat165900050033', '__label__abcat0701002',\n",
       "       '__label__abcat0707002', '__label__abcat0706002',\n",
       "       '__label__pcmcat144700050004', '__label__abcat0901006',\n",
       "       '__label__abcat0502003', '__label__pcmcat212600050011',\n",
       "       '__label__abcat0703002', '__label__abcat0301014',\n",
       "       '__label__abcat0910004', '__label__abcat0704003',\n",
       "       '__label__pcmcat227500050028', '__label__abcat0904001',\n",
       "       '__label__abcat0504010', '__label__abcat0903001'], dtype=object)"
      ]
     },
     "execution_count": 52,
     "metadata": {},
     "output_type": "execute_result"
    }
   ],
   "source": [
    "MIN_SAMPLES_PER_LABEL = 500\n",
    "\n",
    "tmp = (ds[\"label\"].value_counts() > MIN_SAMPLES_PER_LABEL).to_frame()\n",
    "thresholded_labels = tmp[tmp[\"label\"] == True].index.values\n",
    "\n",
    "thresholded_labels"
   ]
  },
  {
   "cell_type": "code",
   "execution_count": 73,
   "metadata": {},
   "outputs": [],
   "source": [
    "ds = ds[ds[\"label\"].isin(thresholded_labels)]"
   ]
  },
  {
   "cell_type": "code",
   "execution_count": 74,
   "metadata": {},
   "outputs": [],
   "source": [
    "ds.to_csv(\"/workspace/datasets/fasttext/pruned_labeled_products.txt\", header=None, sep=\" \", index=False)"
   ]
  },
  {
   "cell_type": "code",
   "execution_count": 75,
   "metadata": {},
   "outputs": [
    {
     "name": "stdout",
     "output_type": "stream",
     "text": [
      "__label__pcmcat165900050033 \"Metra - Radio Installation Dash Kit for Most 1989-2000 Ford, Lincoln & Mercury Vehicles - Black\"\n",
      "__label__pcmcat165900050033 \"Metra - Radio Dash Multikit for Select GM Vehicles - Black\"\n",
      "__label__pcmcat165900050033 \"Best Buy - Mazda Multi In-Dash Installation Kit\"\n",
      "__label__abcat0101001 \"Dynex™ - 32\"\" Class / 720p / 60Hz / LCD HDTV\"\n",
      "__label__abcat0101001 \"Insignia™ - 32\"\" Class / 720p / 60Hz / LCD HDTV\"\n"
     ]
    }
   ],
   "source": [
    "!head -5 \"/workspace/datasets/fasttext/pruned_labeled_products.txt\""
   ]
  },
  {
   "cell_type": "code",
   "execution_count": 76,
   "metadata": {},
   "outputs": [],
   "source": [
    "!shuf /workspace/datasets/fasttext/pruned_labeled_products.txt > /workspace/datasets/fasttext/shuffled_pruned_labeled_products.txt"
   ]
  },
  {
   "cell_type": "code",
   "execution_count": 77,
   "metadata": {},
   "outputs": [],
   "source": [
    "!rm -rf products_pruned.train && head -10000 /workspace/datasets/fasttext/shuffled_pruned_labeled_products.txt > products_pruned.train\n",
    "!rm -rf products_pruned.test && tail -15000 /workspace/datasets/fasttext/shuffled_pruned_labeled_products.txt > products_pruned.test"
   ]
  },
  {
   "cell_type": "code",
   "execution_count": 78,
   "metadata": {},
   "outputs": [
    {
     "name": "stderr",
     "output_type": "stream",
     "text": [
      "Read 0M words\n",
      "Number of words:  7329\n",
      "Number of labels: 32\n",
      "Progress: 100.0% words/sec/thread:  126959 lr:  0.000000 avg.loss:  0.037155 ETA:   0h 0m 0s\n"
     ]
    }
   ],
   "source": [
    "import fasttext\n",
    "model = fasttext.train_supervised(input=\"products_pruned.train\", wordNgrams=2, epoch=25, lr=1.0)"
   ]
  },
  {
   "cell_type": "code",
   "execution_count": 79,
   "metadata": {},
   "outputs": [
    {
     "name": "stdout",
     "output_type": "stream",
     "text": [
      "P@1: 0.9682666666666667, R@1: 0.9682666666666667\n",
      "P@5: 0.19962666666666667, R@5: 0.9981333333333333\n",
      "P@10: 0.0999, R@10: 0.999\n"
     ]
    }
   ],
   "source": [
    "evaluate(model, \"products_pruned.test\")"
   ]
  },
  {
   "cell_type": "code",
   "execution_count": null,
   "metadata": {},
   "outputs": [],
   "source": []
  },
  {
   "cell_type": "markdown",
   "metadata": {},
   "source": [
    "# Synonyms"
   ]
  },
  {
   "cell_type": "code",
   "execution_count": 83,
   "metadata": {},
   "outputs": [],
   "source": [
    "!rm -rf /workspace/datasets/fasttext/titles.txt && cut -d' ' -f2- /workspace/datasets/fasttext/shuffled_labeled_products.txt > /workspace/datasets/fasttext/titles.txt"
   ]
  },
  {
   "cell_type": "code",
   "execution_count": 84,
   "metadata": {},
   "outputs": [
    {
     "name": "stdout",
     "output_type": "stream",
     "text": [
      "iPod classic®  - Silver, Griffin Technology Arm Band, Charger, Sony Earbuds\n",
      "Bush - Sonata TV Stand for Flat-Panel TVs Up to 50\"\n",
      "LG - 30\" Self-Cleaning Freestanding Double Oven Electric Convection Range - Stainless-Steel\n",
      "Whirlpool - 17.6 Cu. Ft. Frost-Free Top-Mount Refrigerator - Stainless-Steel\n",
      "Trademark Games - Florida Panthers 8-Cue Wall Rack\n",
      "Toshiba - REGZA / 40\" Class / 1080p / 120Hz / LCD HDTV\n",
      "Belkin - Meta 028 Case for 4th-Generation Apple® iPod® touch - Black\n",
      "Crate - FW120 Flexwave 120W RMS Guitar Combo Amplifier\n",
      "InnoView - 22\" Class - LED - 1080p - 60Hz - HDTV\n",
      "Motorola - Leather Pouch for Motorola T193 Cellular Phones\n"
     ]
    }
   ],
   "source": [
    "!head /workspace/datasets/fasttext/titles.txt"
   ]
  },
  {
   "cell_type": "code",
   "execution_count": 85,
   "metadata": {},
   "outputs": [
    {
     "name": "stderr",
     "output_type": "stream",
     "text": [
      "Read 1M words\n",
      "Number of words:  10873\n",
      "Number of labels: 0\n",
      "Progress: 100.0% words/sec/thread:   18696 lr:  0.000000 avg.loss:  1.346618 ETA:   0h 0m 0s\n"
     ]
    }
   ],
   "source": [
    "# Skipgram model :\n",
    "model = fasttext.train_unsupervised('/workspace/datasets/fasttext/titles.txt', model='skipgram')"
   ]
  },
  {
   "cell_type": "code",
   "execution_count": 1,
   "metadata": {},
   "outputs": [],
   "source": [
    "import pprint\n",
    "\n",
    "def eval_nn(_model):\n",
    "    for query in [\"iphone\", \"iPhone\", \"ps2\", \"headphones\", \"plasma\", \"nintendo\"]:\n",
    "        print(f\"Query: {query}\")\n",
    "        pprint.pprint(_model.get_nearest_neighbors(query, 10))"
   ]
  },
  {
   "cell_type": "code",
   "execution_count": 96,
   "metadata": {},
   "outputs": [],
   "source": [
    "# Normalize titles\n",
    "!cat /workspace/datasets/fasttext/titles.txt | sed -e \"s/\\([.\\!?,'/()]\\)/ \\1 /g\" | tr \"[:upper:]\" \"[:lower:]\" | sed \"s/[^[:alnum:]]/ /g\" | tr -s ' ' > /workspace/datasets/fasttext/normalized_titles.txt"
   ]
  },
  {
   "cell_type": "code",
   "execution_count": 102,
   "metadata": {},
   "outputs": [
    {
     "name": "stderr",
     "output_type": "stream",
     "text": [
      "Read 1M words\n",
      "Number of words:  8903\n",
      "Number of labels: 0\n",
      "Progress: 100.0% words/sec/thread:   20368 lr:  0.000000 avg.loss:  1.468102 ETA:   0h 0m 0s\n"
     ]
    }
   ],
   "source": [
    "model = fasttext.train_unsupervised('/workspace/datasets/fasttext/normalized_titles.txt', model='skipgram')"
   ]
  },
  {
   "cell_type": "code",
   "execution_count": 105,
   "metadata": {},
   "outputs": [
    {
     "name": "stdout",
     "output_type": "stream",
     "text": [
      "Query: iphone\n",
      "[(0.862663209438324, '4s'),\n",
      " (0.7868690490722656, '3gs'),\n",
      " (0.7689868807792664, 'apple'),\n",
      " (0.7299811840057373, 'ozone'),\n",
      " (0.7227146029472351, 'ifrogz'),\n",
      " (0.7131742835044861, 'ipod'),\n",
      " (0.7096652984619141, 'fabshell'),\n",
      " (0.7002969980239868, 'ipadÂ'),\n",
      " (0.6982929110527039, 'phone'),\n",
      " (0.6978291869163513, 'gophone')]\n",
      "Query: iPhone\n",
      "[(0.9215518236160278, 'hone'),\n",
      " (0.8393056988716125, 'phone'),\n",
      " (0.8265119791030884, 'ozone'),\n",
      " (0.8260446786880493, 'gophone'),\n",
      " (0.7845501899719238, 'speakerphone'),\n",
      " (0.7734159827232361, 'iphone'),\n",
      " (0.7519534826278687, 'bone'),\n",
      " (0.7399531602859497, 'saxophone'),\n",
      " (0.7317371964454651, 'jawbone'),\n",
      " (0.7148262858390808, 'cone')]\n",
      "Query: ps2\n",
      "[(0.8454468846321106, 'ps3'),\n",
      " (0.8109826445579529, 'psp'),\n",
      " (0.8108870983123779, 'gba'),\n",
      " (0.8095378875732422, '2k5'),\n",
      " (0.8088458776473999, '2k3'),\n",
      " (0.8039939999580383, 'nhl'),\n",
      " (0.8030414581298828, '2k8'),\n",
      " (0.8023243546485901, 'wwe'),\n",
      " (0.7981027364730835, '2k9'),\n",
      " (0.7947553992271423, '2k6')]\n",
      "Query: headphones\n",
      "[(0.9283015131950378, 'headphone'),\n",
      " (0.8844862580299377, 'earbud'),\n",
      " (0.8540629148483276, 'ear'),\n",
      " (0.8330044150352478, 'earphones'),\n",
      " (0.7490367889404297, '2xl'),\n",
      " (0.746570885181427, 'bud'),\n",
      " (0.7235724925994873, 'hesh'),\n",
      " (0.7217092514038086, 'behind'),\n",
      " (0.7164847254753113, 'earbuds'),\n",
      " (0.706288754940033, 'sennheiser')]\n",
      "Query: plasma\n",
      "[(0.8567748069763184, '600hz'),\n",
      " (0.8250851035118103, 'hdtvs'),\n",
      " (0.8123815655708313, '58'),\n",
      " (0.8105147480964661, '73'),\n",
      " (0.7997162938117981, '480hz'),\n",
      " (0.7928758263587952, 'viera'),\n",
      " (0.7884787917137146, 'hdtv'),\n",
      " (0.7825266718864441, '47'),\n",
      " (0.7820277810096741, '63'),\n",
      " (0.7817631363868713, '43')]\n",
      "Query: nintendo\n",
      "[(0.9785013794898987, 'nintendogs'),\n",
      " (0.8783923983573914, 'wii'),\n",
      " (0.8760552406311035, 'ds'),\n",
      " (0.8275284171104431, '3ds'),\n",
      " (0.8067753911018372, 'gamecube'),\n",
      " (0.7311035394668579, 'rabbids'),\n",
      " (0.7284687757492065, 'dsi'),\n",
      " (0.7189847230911255, 'donkey'),\n",
      " (0.7119582891464233, 'ninjas'),\n",
      " (0.7066546082496643, 'luigi')]\n"
     ]
    }
   ],
   "source": [
    "eval_nn(model)"
   ]
  },
  {
   "cell_type": "code",
   "execution_count": 2,
   "metadata": {},
   "outputs": [
    {
     "name": "stderr",
     "output_type": "stream",
     "text": [
      "Read 1M words\n",
      "Number of words:  8903\n",
      "Number of labels: 0\n",
      "Progress: 100.0% words/sec/thread:   19813 lr:  0.000000 avg.loss:  1.058889 ETA:   0h 0m 0s 43.6% words/sec/thread:   19767 lr:  0.028184 avg.loss:  1.220267 ETA:   0h 0m53s\n"
     ]
    }
   ],
   "source": [
    "import fasttext\n",
    "model = fasttext.train_unsupervised('/workspace/datasets/fasttext/normalized_titles.txt', model='skipgram', epoch=25)"
   ]
  },
  {
   "cell_type": "code",
   "execution_count": 3,
   "metadata": {},
   "outputs": [
    {
     "name": "stdout",
     "output_type": "stream",
     "text": [
      "Query: iphone\n",
      "[(0.881649374961853, '4s'),\n",
      " (0.8275116682052612, 'apple'),\n",
      " (0.7619662880897522, 'ipod'),\n",
      " (0.6918696761131287, 'fabshell'),\n",
      " (0.6893593668937683, 'ipad'),\n",
      " (0.6855179071426392, '3gs'),\n",
      " (0.6779516935348511, 'nauticase'),\n",
      " (0.6434628367424011, '4th'),\n",
      " (0.6306478381156921, 'candyshell'),\n",
      " (0.6174927353858948, 'lifeproof')]\n",
      "Query: iPhone\n",
      "[(0.8479858636856079, 'hone'),\n",
      " (0.7468584775924683, 'phone'),\n",
      " (0.6568116545677185, 'ozone'),\n",
      " (0.6489620804786682, 'gophone'),\n",
      " (0.6449326276779175, 'speakerphone'),\n",
      " (0.6425195932388306, 'answering'),\n",
      " (0.6382327675819397, 'cortelco'),\n",
      " (0.6302291750907898, 'shonen'),\n",
      " (0.6291709542274475, 'caller'),\n",
      " (0.620538592338562, 'muzx')]\n",
      "Query: ps2\n",
      "[(0.7454320192337036, 'playstation'),\n",
      " (0.7328281402587891, 'ps3'),\n",
      " (0.7267951369285583, 'gamecube'),\n",
      " (0.7166802883148193, 'gba'),\n",
      " (0.7124346494674683, 'xbox'),\n",
      " (0.6846213936805725, 'psp'),\n",
      " (0.677823543548584, '360'),\n",
      " (0.6599013209342957, 'guide'),\n",
      " (0.6281841993331909, 'ds'),\n",
      " (0.6267892122268677, 'jak')]\n",
      "Query: headphones\n",
      "[(0.9033394455909729, 'earbud'),\n",
      " (0.855228841304779, 'ear'),\n",
      " (0.8519431352615356, 'headphone'),\n",
      " (0.6839885115623474, 'bud'),\n",
      " (0.676281213760376, 'earphones'),\n",
      " (0.6759442687034607, 'lowrider'),\n",
      " (0.6679911613464355, 'behind'),\n",
      " (0.6661781072616577, '2xl'),\n",
      " (0.6659833192825317, 'earpollution'),\n",
      " (0.6607787013053894, 'piiq')]\n",
      "Query: plasma\n",
      "[(0.7664154767990112, '600hz'),\n",
      " (0.7130922079086304, '480hz'),\n",
      " (0.6793321371078491, 'purevision'),\n",
      " (0.6633282899856567, 'ambilight'),\n",
      " (0.6600067019462585, 'viera'),\n",
      " (0.6330090165138245, 'hdtv'),\n",
      " (0.6299487948417664, 'kuro'),\n",
      " (0.6210365891456604, '58'),\n",
      " (0.6100168824195862, '42'),\n",
      " (0.6009523868560791, 'class')]\n",
      "Query: nintendo\n",
      "[(0.9588195085525513, 'ds'),\n",
      " (0.9397016167640686, 'wii'),\n",
      " (0.8475221991539001, 'nintendogs'),\n",
      " (0.7847191095352173, '3ds'),\n",
      " (0.7397281527519226, 'gamecube'),\n",
      " (0.7370284795761108, 'psp'),\n",
      " (0.7270709276199341, 'playstation'),\n",
      " (0.705363929271698, 'advance'),\n",
      " (0.6887860894203186, 'xbox'),\n",
      " (0.6819948554039001, 'boy')]\n"
     ]
    }
   ],
   "source": [
    "eval_nn(model)"
   ]
  },
  {
   "cell_type": "code",
   "execution_count": 4,
   "metadata": {},
   "outputs": [
    {
     "name": "stderr",
     "output_type": "stream",
     "text": [
      "Read 1M words\n",
      "Number of words:  3861\n",
      "Number of labels: 0\n",
      "Progress:  99.8% words/sec/thread:   22748 lr:  0.000095 avg.loss:  1.188973 ETA:   0h 0m 0s"
     ]
    },
    {
     "name": "stdout",
     "output_type": "stream",
     "text": [
      "Query: iphone\n",
      "[(0.8669317364692688, '4s'),\n",
      " (0.7902259230613708, 'apple'),\n",
      " (0.7400349378585815, 'ipod'),\n",
      " (0.7053563594818115, '3gs'),\n",
      " (0.6725506782531738, 'ipad'),\n",
      " (0.6256548166275024, '4th'),\n",
      " (0.5602055788040161, 'generation'),\n",
      " (0.5528930425643921, '3g'),\n",
      " (0.5386014580726624, 'earbud'),\n",
      " (0.5361412763595581, 'mophie')]\n",
      "Query: iPhone\n",
      "[(0.74390709400177, 'telephone'),\n",
      " (0.7369771599769592, 'phone'),\n",
      " (0.6686997413635254, 'waiting'),\n",
      " (0.6655545830726624, 'speakerphone'),\n",
      " (0.660749077796936, 'answering'),\n",
      " (0.6539176106452942, 'handset'),\n",
      " (0.6366216540336609, 'gigaset'),\n",
      " (0.6337408423423767, 'gophone'),\n",
      " (0.6271347999572754, 'dect'),\n",
      " (0.621921181678772, 'headphone')]\n",
      "Query: ps2\n",
      "[(0.7587485909461975, 'playstation'),\n",
      " (0.7549052238464355, 'xbox'),\n",
      " (0.7451379895210266, 'gba'),\n",
      " (0.7213716506958008, 'gamecube'),\n",
      " (0.7184588313102722, 'ps3'),\n",
      " (0.7118987441062927, '360'),\n",
      " (0.7104285359382629, 'guide'),\n",
      " (0.685433566570282, 'psp'),\n",
      " (0.6524907350540161, 'ds'),\n",
      " (0.6503873467445374, 'cheats')]\n",
      "Query: headphones\n",
      "[(0.9024874567985535, 'earbud'),\n",
      " (0.8605319857597351, 'ear'),\n",
      " (0.8261955380439758, 'headphone'),\n",
      " (0.6769558787345886, 'lowrider'),\n",
      " (0.6524174213409424, 'earphones'),\n",
      " (0.6506332755088806, 'behind'),\n",
      " (0.6395815014839172, '2xl'),\n",
      " (0.6355432271957397, 'over'),\n",
      " (0.6347976326942444, 'bud'),\n",
      " (0.6339685916900635, 'skullcandy')]\n",
      "Query: plasma\n",
      "[(0.7563953399658203, '600hz'),\n",
      " (0.6173371076583862, 'hdtv'),\n",
      " (0.6046248078346252, 'viera'),\n",
      " (0.6007862091064453, 'class'),\n",
      " (0.5938505530357361, '63'),\n",
      " (0.5841492414474487, 'screens'),\n",
      " (0.5804036855697632, 'hdtvs'),\n",
      " (0.5759238600730896, 'dlp'),\n",
      " (0.5629894137382507, '42'),\n",
      " (0.5611556172370911, '58')]\n",
      "Query: nintendo\n",
      "[(0.9529601335525513, 'ds'),\n",
      " (0.9450162649154663, 'wii'),\n",
      " (0.8019693493843079, 'gamecube'),\n",
      " (0.786791205406189, '3ds'),\n",
      " (0.7289711833000183, 'psp'),\n",
      " (0.723199188709259, 'playstation'),\n",
      " (0.7231845259666443, 'xbox'),\n",
      " (0.7225428223609924, 'advance'),\n",
      " (0.7110423445701599, 'boy'),\n",
      " (0.7102473378181458, '360')]\n"
     ]
    },
    {
     "name": "stderr",
     "output_type": "stream",
     "text": [
      "Progress: 100.0% words/sec/thread:   22736 lr:  0.000000 avg.loss:  1.188628 ETA:   0h 0m 0s\n"
     ]
    }
   ],
   "source": [
    "import fasttext\n",
    "model = fasttext.train_unsupervised('/workspace/datasets/fasttext/normalized_titles.txt', model='skipgram', epoch=25, minCount=20)\n",
    "eval_nn(model)"
   ]
  },
  {
   "cell_type": "code",
   "execution_count": 5,
   "metadata": {},
   "outputs": [],
   "source": [
    "model.save_model(\"/workspace/datasets/fasttext/title_model.bin\")"
   ]
  },
  {
   "cell_type": "code",
   "execution_count": 3,
   "metadata": {},
   "outputs": [
    {
     "name": "stderr",
     "output_type": "stream",
     "text": [
      "Warning : `load_model` does not return WordVectorModel or SupervisedModel any more, but a `FastText` object which is very similar.\n"
     ]
    }
   ],
   "source": [
    "import fasttext\n",
    "\n",
    "model = fasttext.load_model(\"/workspace/datasets/fasttext/title_model.bin\")"
   ]
  },
  {
   "cell_type": "code",
   "execution_count": 4,
   "metadata": {},
   "outputs": [
    {
     "data": {
      "text/html": [
       "<div>\n",
       "<style scoped>\n",
       "    .dataframe tbody tr th:only-of-type {\n",
       "        vertical-align: middle;\n",
       "    }\n",
       "\n",
       "    .dataframe tbody tr th {\n",
       "        vertical-align: top;\n",
       "    }\n",
       "\n",
       "    .dataframe thead th {\n",
       "        text-align: right;\n",
       "    }\n",
       "</style>\n",
       "<table border=\"1\" class=\"dataframe\">\n",
       "  <thead>\n",
       "    <tr style=\"text-align: right;\">\n",
       "      <th></th>\n",
       "      <th>word</th>\n",
       "    </tr>\n",
       "  </thead>\n",
       "  <tbody>\n",
       "    <tr>\n",
       "      <th>0</th>\n",
       "      <td>black</td>\n",
       "    </tr>\n",
       "    <tr>\n",
       "      <th>1</th>\n",
       "      <td>with</td>\n",
       "    </tr>\n",
       "    <tr>\n",
       "      <th>2</th>\n",
       "      <td>digital</td>\n",
       "    </tr>\n",
       "    <tr>\n",
       "      <th>3</th>\n",
       "      <td>white</td>\n",
       "    </tr>\n",
       "    <tr>\n",
       "      <th>4</th>\n",
       "      <td>case</td>\n",
       "    </tr>\n",
       "    <tr>\n",
       "      <th>...</th>\n",
       "      <td>...</td>\n",
       "    </tr>\n",
       "    <tr>\n",
       "      <th>995</th>\n",
       "      <td>waiting</td>\n",
       "    </tr>\n",
       "    <tr>\n",
       "      <th>996</th>\n",
       "      <td>razor</td>\n",
       "    </tr>\n",
       "    <tr>\n",
       "      <th>997</th>\n",
       "      <td>pine</td>\n",
       "    </tr>\n",
       "    <tr>\n",
       "      <th>998</th>\n",
       "      <td>noise</td>\n",
       "    </tr>\n",
       "    <tr>\n",
       "      <th>999</th>\n",
       "      <td>musicskins</td>\n",
       "    </tr>\n",
       "  </tbody>\n",
       "</table>\n",
       "<p>1000 rows × 1 columns</p>\n",
       "</div>"
      ],
      "text/plain": [
       "           word\n",
       "0         black\n",
       "1          with\n",
       "2       digital\n",
       "3         white\n",
       "4          case\n",
       "..          ...\n",
       "995     waiting\n",
       "996       razor\n",
       "997        pine\n",
       "998       noise\n",
       "999  musicskins\n",
       "\n",
       "[1000 rows x 1 columns]"
      ]
     },
     "execution_count": 4,
     "metadata": {},
     "output_type": "execute_result"
    }
   ],
   "source": [
    "import pandas as pd\n",
    "top_words = pd.read_csv(\"/workspace/datasets/fasttext/top_words.txt\", header=None)\n",
    "top_words.columns = [\"word\"]\n",
    "top_words"
   ]
  },
  {
   "cell_type": "code",
   "execution_count": 5,
   "metadata": {},
   "outputs": [],
   "source": [
    "def get_nearest_neighbors(query, model, threshold):\n",
    "    nns = model.get_nearest_neighbors(query, 2000)\n",
    "    \n",
    "    return [word for (distance, word) in nns if distance > threshold]"
   ]
  },
  {
   "cell_type": "code",
   "execution_count": 6,
   "metadata": {},
   "outputs": [
    {
     "data": {
      "text/plain": [
       "[]"
      ]
     },
     "execution_count": 6,
     "metadata": {},
     "output_type": "execute_result"
    }
   ],
   "source": [
    "get_nearest_neighbors(\"bob\", model, 0.75)"
   ]
  },
  {
   "cell_type": "code",
   "execution_count": 7,
   "metadata": {},
   "outputs": [],
   "source": [
    "top_words[\"synonyms\"] = top_words[\"word\"].map(lambda word: get_nearest_neighbors(word, model, 0.75))"
   ]
  },
  {
   "cell_type": "code",
   "execution_count": 8,
   "metadata": {},
   "outputs": [
    {
     "data": {
      "text/html": [
       "<div>\n",
       "<style scoped>\n",
       "    .dataframe tbody tr th:only-of-type {\n",
       "        vertical-align: middle;\n",
       "    }\n",
       "\n",
       "    .dataframe tbody tr th {\n",
       "        vertical-align: top;\n",
       "    }\n",
       "\n",
       "    .dataframe thead th {\n",
       "        text-align: right;\n",
       "    }\n",
       "</style>\n",
       "<table border=\"1\" class=\"dataframe\">\n",
       "  <thead>\n",
       "    <tr style=\"text-align: right;\">\n",
       "      <th></th>\n",
       "      <th>word</th>\n",
       "      <th>synonyms</th>\n",
       "    </tr>\n",
       "  </thead>\n",
       "  <tbody>\n",
       "    <tr>\n",
       "      <th>0</th>\n",
       "      <td>black</td>\n",
       "      <td>[]</td>\n",
       "    </tr>\n",
       "    <tr>\n",
       "      <th>1</th>\n",
       "      <td>with</td>\n",
       "      <td>[]</td>\n",
       "    </tr>\n",
       "    <tr>\n",
       "      <th>2</th>\n",
       "      <td>digital</td>\n",
       "      <td>[]</td>\n",
       "    </tr>\n",
       "    <tr>\n",
       "      <th>3</th>\n",
       "      <td>white</td>\n",
       "      <td>[]</td>\n",
       "    </tr>\n",
       "    <tr>\n",
       "      <th>4</th>\n",
       "      <td>case</td>\n",
       "      <td>[]</td>\n",
       "    </tr>\n",
       "    <tr>\n",
       "      <th>5</th>\n",
       "      <td>memory</td>\n",
       "      <td>[4gb, 8gb]</td>\n",
       "    </tr>\n",
       "    <tr>\n",
       "      <th>6</th>\n",
       "      <td>camera</td>\n",
       "      <td>[]</td>\n",
       "    </tr>\n",
       "    <tr>\n",
       "      <th>7</th>\n",
       "      <td>windows</td>\n",
       "      <td>[mac]</td>\n",
       "    </tr>\n",
       "    <tr>\n",
       "      <th>8</th>\n",
       "      <td>card</td>\n",
       "      <td>[]</td>\n",
       "    </tr>\n",
       "    <tr>\n",
       "      <th>9</th>\n",
       "      <td>apple</td>\n",
       "      <td>[ipod, ipad, iphone]</td>\n",
       "    </tr>\n",
       "    <tr>\n",
       "      <th>10</th>\n",
       "      <td>nintendo</td>\n",
       "      <td>[ds, wii, gamecube, 3ds]</td>\n",
       "    </tr>\n",
       "    <tr>\n",
       "      <th>11</th>\n",
       "      <td>electric</td>\n",
       "      <td>[]</td>\n",
       "    </tr>\n",
       "    <tr>\n",
       "      <th>12</th>\n",
       "      <td>sony</td>\n",
       "      <td>[]</td>\n",
       "    </tr>\n",
       "    <tr>\n",
       "      <th>13</th>\n",
       "      <td>drive</td>\n",
       "      <td>[hard, 500gb]</td>\n",
       "    </tr>\n",
       "    <tr>\n",
       "      <th>14</th>\n",
       "      <td>laptop</td>\n",
       "      <td>[]</td>\n",
       "    </tr>\n",
       "    <tr>\n",
       "      <th>15</th>\n",
       "      <td>battery</td>\n",
       "      <td>[]</td>\n",
       "    </tr>\n",
       "    <tr>\n",
       "      <th>16</th>\n",
       "      <td>wireless</td>\n",
       "      <td>[]</td>\n",
       "    </tr>\n",
       "    <tr>\n",
       "      <th>17</th>\n",
       "      <td>silver</td>\n",
       "      <td>[]</td>\n",
       "    </tr>\n",
       "    <tr>\n",
       "      <th>18</th>\n",
       "      <td>series</td>\n",
       "      <td>[]</td>\n",
       "    </tr>\n",
       "    <tr>\n",
       "      <th>19</th>\n",
       "      <td>hard</td>\n",
       "      <td>[drive]</td>\n",
       "    </tr>\n",
       "  </tbody>\n",
       "</table>\n",
       "</div>"
      ],
      "text/plain": [
       "        word                  synonyms\n",
       "0      black                        []\n",
       "1       with                        []\n",
       "2    digital                        []\n",
       "3      white                        []\n",
       "4       case                        []\n",
       "5     memory                [4gb, 8gb]\n",
       "6     camera                        []\n",
       "7    windows                     [mac]\n",
       "8       card                        []\n",
       "9      apple      [ipod, ipad, iphone]\n",
       "10  nintendo  [ds, wii, gamecube, 3ds]\n",
       "11  electric                        []\n",
       "12      sony                        []\n",
       "13     drive             [hard, 500gb]\n",
       "14    laptop                        []\n",
       "15   battery                        []\n",
       "16  wireless                        []\n",
       "17    silver                        []\n",
       "18    series                        []\n",
       "19      hard                   [drive]"
      ]
     },
     "execution_count": 8,
     "metadata": {},
     "output_type": "execute_result"
    }
   ],
   "source": [
    "pd.set_option('display.max_rows', 20)\n",
    "top_words.head(20)"
   ]
  },
  {
   "cell_type": "code",
   "execution_count": 21,
   "metadata": {},
   "outputs": [],
   "source": [
    "top_words[\"4_export\"] = top_words \\\n",
    "    .apply(lambda row: \",\".join([row.word] + row.synonyms), axis=1)"
   ]
  },
  {
   "cell_type": "code",
   "execution_count": 22,
   "metadata": {},
   "outputs": [
    {
     "data": {
      "text/html": [
       "<div>\n",
       "<style scoped>\n",
       "    .dataframe tbody tr th:only-of-type {\n",
       "        vertical-align: middle;\n",
       "    }\n",
       "\n",
       "    .dataframe tbody tr th {\n",
       "        vertical-align: top;\n",
       "    }\n",
       "\n",
       "    .dataframe thead th {\n",
       "        text-align: right;\n",
       "    }\n",
       "</style>\n",
       "<table border=\"1\" class=\"dataframe\">\n",
       "  <thead>\n",
       "    <tr style=\"text-align: right;\">\n",
       "      <th></th>\n",
       "      <th>word</th>\n",
       "      <th>synonyms</th>\n",
       "      <th>4_export</th>\n",
       "    </tr>\n",
       "  </thead>\n",
       "  <tbody>\n",
       "    <tr>\n",
       "      <th>0</th>\n",
       "      <td>black</td>\n",
       "      <td>[]</td>\n",
       "      <td>black</td>\n",
       "    </tr>\n",
       "    <tr>\n",
       "      <th>1</th>\n",
       "      <td>with</td>\n",
       "      <td>[]</td>\n",
       "      <td>with</td>\n",
       "    </tr>\n",
       "    <tr>\n",
       "      <th>2</th>\n",
       "      <td>digital</td>\n",
       "      <td>[]</td>\n",
       "      <td>digital</td>\n",
       "    </tr>\n",
       "    <tr>\n",
       "      <th>3</th>\n",
       "      <td>white</td>\n",
       "      <td>[]</td>\n",
       "      <td>white</td>\n",
       "    </tr>\n",
       "    <tr>\n",
       "      <th>4</th>\n",
       "      <td>case</td>\n",
       "      <td>[]</td>\n",
       "      <td>case</td>\n",
       "    </tr>\n",
       "    <tr>\n",
       "      <th>5</th>\n",
       "      <td>memory</td>\n",
       "      <td>[4gb, 8gb]</td>\n",
       "      <td>memory,4gb,8gb</td>\n",
       "    </tr>\n",
       "  </tbody>\n",
       "</table>\n",
       "</div>"
      ],
      "text/plain": [
       "      word    synonyms        4_export\n",
       "0    black          []           black\n",
       "1     with          []            with\n",
       "2  digital          []         digital\n",
       "3    white          []           white\n",
       "4     case          []            case\n",
       "5   memory  [4gb, 8gb]  memory,4gb,8gb"
      ]
     },
     "execution_count": 22,
     "metadata": {},
     "output_type": "execute_result"
    }
   ],
   "source": [
    "top_words.head(6)"
   ]
  },
  {
   "cell_type": "code",
   "execution_count": 23,
   "metadata": {},
   "outputs": [],
   "source": [
    "top_words[[\"4_export\"]].to_csv(\"/workspace/datasets/fasttext/synonyms.csv\", header=None, index=False, sep=\" \")"
   ]
  },
  {
   "cell_type": "code",
   "execution_count": 24,
   "metadata": {},
   "outputs": [
    {
     "name": "stdout",
     "output_type": "stream",
     "text": [
      "black\n",
      "with\n",
      "digital\n",
      "white\n",
      "case\n",
      "memory,4gb,8gb\n",
      "camera\n",
      "windows,mac\n",
      "card\n",
      "apple,ipod,ipad,iphone\n",
      "nintendo,ds,wii,gamecube,3ds\n",
      "electric\n",
      "sony\n",
      "drive,hard,500gb\n",
      "laptop\n",
      "battery\n",
      "wireless\n",
      "silver\n",
      "series\n",
      "hard,drive\n"
     ]
    },
    {
     "ename": "",
     "evalue": "",
     "output_type": "error",
     "traceback": [
      "\u001b[1;31mThe Kernel crashed while executing code in the the current cell or a previous cell. Please review the code in the cell(s) to identify a possible cause of the failure. Click <a href='https://aka.ms/vscodeJupyterKernelCrash'>here</a> for more info. View Jupyter <a href='command:jupyter.viewOutput'>log</a> for further details."
     ]
    }
   ],
   "source": [
    "!head -20 \"/workspace/datasets/fasttext/synonyms.csv\""
   ]
  },
  {
   "cell_type": "code",
   "execution_count": null,
   "metadata": {},
   "outputs": [],
   "source": []
  }
 ],
 "metadata": {
  "kernelspec": {
   "display_name": "Python 3.9.7 64-bit ('search_with_ml')",
   "language": "python",
   "name": "python3"
  },
  "language_info": {
   "codemirror_mode": {
    "name": "ipython",
    "version": 3
   },
   "file_extension": ".py",
   "mimetype": "text/x-python",
   "name": "python",
   "nbconvert_exporter": "python",
   "pygments_lexer": "ipython3",
   "version": "3.9.7"
  },
  "orig_nbformat": 4,
  "vscode": {
   "interpreter": {
    "hash": "67e596a8a2bf29352050fb333d24bd7b02bfe9fb96f64551bb2b9fad903a30a1"
   }
  }
 },
 "nbformat": 4,
 "nbformat_minor": 2
}
